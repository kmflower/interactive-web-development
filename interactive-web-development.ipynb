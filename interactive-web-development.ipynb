{
 "cells": [
  {
   "cell_type": "markdown",
   "metadata": {},
   "source": [
    "# Interactively Writing Web Applications\n",
    "\n",
    "Reimagining the world of web development with Klein and Jupyter\n",
    "\n",
    "**Moshe Zadka**\n",
    "\n",
    "**https://cobordism.com**"
   ]
  },
  {
   "cell_type": "markdown",
   "metadata": {},
   "source": [
    "<br/><br/><br/><br/><br/><br/><br/><br/><br/><br/><br/><br/><br/><br/><br/><br/><br/><br/><br/><br/>"
   ]
  },
  {
   "cell_type": "markdown",
   "metadata": {},
   "source": [
    "## The The Editor...And Beyond\n",
    "* Interactive\n",
    "* Development\n",
    "* Environment"
   ]
  },
  {
   "cell_type": "markdown",
   "metadata": {},
   "source": [
    "<br/><br/><br/><br/><br/><br/><br/><br/><br/><br/><br/><br/><br/><br/><br/><br/><br/><br/><br/><br/>"
   ]
  },
  {
   "cell_type": "markdown",
   "metadata": {},
   "source": [
    "## Auto-Reloading: A Non-Solution to a Non-Problem\n",
    "\n",
    "* Complicated and fragile\n",
    "* Downtime\n",
    "* Is it reloaded? But how about now?"
   ]
  },
  {
   "cell_type": "markdown",
   "metadata": {},
   "source": [
    "<br/><br/><br/><br/><br/><br/><br/><br/><br/><br/><br/><br/><br/><br/><br/><br/><br/><br/><br/><br/>"
   ]
  },
  {
   "cell_type": "markdown",
   "metadata": {},
   "source": [
    "## What If I Told You?\n",
    "\n",
    "I will write a web application during this talk.\n",
    "At each step,\n",
    "it will be usable.\n",
    "\n",
    "There will be no reloading...just progress."
   ]
  },
  {
   "cell_type": "markdown",
   "metadata": {},
   "source": [
    "<br/><br/><br/><br/><br/><br/><br/><br/><br/><br/><br/><br/><br/><br/><br/><br/><br/><br/><br/><br/>"
   ]
  },
  {
   "cell_type": "markdown",
   "metadata": {},
   "source": [
    "## Twisted, Meet Jupyter\n",
    "\n",
    "* Klein on Twisted\n",
    "* Twisted on Asyncioreactor\n",
    "* Jupyter on Asyncio event loop"
   ]
  },
  {
   "cell_type": "code",
   "execution_count": 1,
   "metadata": {},
   "outputs": [],
   "source": [
    "from twisted.internet import asyncioreactor\n",
    "asyncioreactor.install()"
   ]
  },
  {
   "cell_type": "markdown",
   "metadata": {},
   "source": [
    "<br/><br/><br/><br/><br/><br/><br/><br/><br/><br/><br/><br/><br/><br/><br/><br/><br/><br/><br/><br/>"
   ]
  },
  {
   "cell_type": "markdown",
   "metadata": {},
   "source": [
    "## The Imports\n",
    "\n",
    "In Lisp, every file ends with `))))))))))`.\n",
    "\n",
    "In Python, every file starts with `import import import`"
   ]
  },
  {
   "cell_type": "code",
   "execution_count": 21,
   "metadata": {},
   "outputs": [],
   "source": [
    "from twisted.internet import endpoints\n",
    "from twisted.web import server\n",
    "from twisted.internet import reactor\n",
    "from klein import app, resource, route, Klein\n",
    "import json\n",
    "import treq"
   ]
  },
  {
   "cell_type": "markdown",
   "metadata": {},
   "source": [
    "<br/><br/><br/><br/><br/><br/><br/><br/><br/><br/><br/><br/><br/><br/><br/><br/><br/><br/><br/><br/>"
   ]
  },
  {
   "cell_type": "markdown",
   "metadata": {},
   "source": [
    "## When Endpoint Met Resource\n",
    "\n",
    "* Klein wants to serve web requests, but doesn't know how to network\n",
    "* Endpoints know how to network, but not how to send content\n",
    "\n",
    "The romantic comedy coming soon to a conference near you!"
   ]
  },
  {
   "cell_type": "code",
   "execution_count": 3,
   "metadata": {},
   "outputs": [
    {
     "data": {
      "text/plain": [
       "<Deferred at 0x7f937a498f10 current result: <<class 'twisted.internet.tcp.Port'> of <class 'twisted.web.server.Site'> on 8000>>"
      ]
     },
     "execution_count": 3,
     "metadata": {},
     "output_type": "execute_result"
    }
   ],
   "source": [
    "endpoint = endpoints.serverFromString(reactor, \"tcp:8000\")\n",
    "site = server.Site(resource())\n",
    "endpoint.listen(site)"
   ]
  },
  {
   "cell_type": "markdown",
   "metadata": {},
   "source": [
    "<br/><br/><br/><br/><br/><br/><br/><br/><br/><br/><br/><br/><br/><br/><br/><br/><br/><br/><br/><br/>"
   ]
  },
  {
   "cell_type": "markdown",
   "metadata": {},
   "source": [
    "## Let's Check It Out"
   ]
  },
  {
   "cell_type": "code",
   "execution_count": 4,
   "metadata": {},
   "outputs": [
    {
     "data": {
      "text/plain": [
       "True"
      ]
     },
     "execution_count": 4,
     "metadata": {},
     "output_type": "execute_result"
    }
   ],
   "source": [
    "import webbrowser\n",
    "webbrowser.open(\"http://localhost:8000\")"
   ]
  },
  {
   "cell_type": "markdown",
   "metadata": {},
   "source": [
    "<br/><br/><br/><br/><br/><br/><br/><br/><br/><br/><br/><br/><br/><br/><br/><br/><br/><br/><br/><br/>"
   ]
  },
  {
   "cell_type": "markdown",
   "metadata": {},
   "source": [
    "## If You Don't Succeed At First, Redefine Success\n",
    "\n",
    "We are not in the *web development business*.\n",
    "\n",
    "We are in the *incremental web development business*."
   ]
  },
  {
   "cell_type": "markdown",
   "metadata": {},
   "source": [
    "<br/><br/><br/><br/><br/><br/><br/><br/><br/><br/><br/><br/><br/><br/><br/><br/><br/><br/><br/><br/>"
   ]
  },
  {
   "cell_type": "code",
   "execution_count": 7,
   "metadata": {},
   "outputs": [
    {
     "data": {
      "text/plain": [
       "True"
      ]
     },
     "execution_count": 7,
     "metadata": {},
     "output_type": "execute_result"
    }
   ],
   "source": [
    "@route(\"/\")\n",
    "def welcome(request):\n",
    "    return \"<html>Hello world</html>\"\n",
    "webbrowser.open(\"http://localhost:8000\")"
   ]
  },
  {
   "cell_type": "markdown",
   "metadata": {},
   "source": [
    "## No Reloading -- No Race Conditions"
   ]
  },
  {
   "cell_type": "code",
   "execution_count": 8,
   "metadata": {},
   "outputs": [
    {
     "data": {
      "text/plain": [
       "True"
      ]
     },
     "execution_count": 8,
     "metadata": {},
     "output_type": "execute_result"
    }
   ],
   "source": [
    "@route('/about')\n",
    "def about(request):\n",
    "    return 'This is the about page'\n",
    "@route(\"/\")\n",
    "def welcome(request):\n",
    "    return '<html>Hello world. See <a href=\"/about\">About</a></html>'\n",
    "webbrowser.open(\"http://localhost:8000\")"
   ]
  },
  {
   "cell_type": "markdown",
   "metadata": {},
   "source": [
    "## Modifying Routes\n",
    "\n",
    "Added a link to an existing route -- and it changed!"
   ]
  },
  {
   "cell_type": "markdown",
   "metadata": {},
   "source": [
    "## Adding a backend"
   ]
  },
  {
   "cell_type": "code",
   "execution_count": 11,
   "metadata": {},
   "outputs": [],
   "source": [
    "backend = Klein()"
   ]
  },
  {
   "cell_type": "code",
   "execution_count": 16,
   "metadata": {},
   "outputs": [],
   "source": [
    "@backend.route(\"/negate/<int:number>\")\n",
    "def negate(request, number):\n",
    "    return json.dumps(-number)"
   ]
  },
  {
   "cell_type": "code",
   "execution_count": 13,
   "metadata": {},
   "outputs": [
    {
     "data": {
      "text/plain": [
       "<Deferred at 0x7f937a3c2510 current result: <<class 'twisted.internet.tcp.Port'> of <class 'twisted.web.server.Site'> on 8001>>"
      ]
     },
     "execution_count": 13,
     "metadata": {},
     "output_type": "execute_result"
    },
    {
     "name": "stderr",
     "output_type": "stream",
     "text": [
      "\n",
      "Traceback (most recent call last):\n",
      "  File \"/home/moshez/src/penguin-bit-by-bit/build/pbbb/lib/python3.7/site-packages/twisted/web/server.py\", line 302, in render\n",
      "    body = resrc.render(self)\n",
      "  File \"/home/moshez/src/penguin-bit-by-bit/build/pbbb/lib/python3.7/site-packages/klein/_resource.py\", line 204, in render\n",
      "    d = defer.maybeDeferred(_execute)\n",
      "  File \"/home/moshez/src/penguin-bit-by-bit/build/pbbb/lib/python3.7/site-packages/twisted/internet/defer.py\", line 151, in maybeDeferred\n",
      "    result = f(*args, **kw)\n",
      "  File \"/home/moshez/src/penguin-bit-by-bit/build/pbbb/lib/python3.7/site-packages/klein/_resource.py\", line 198, in _execute\n",
      "    **kwargs)\n",
      "--- <exception caught here> ---\n",
      "  File \"/home/moshez/src/penguin-bit-by-bit/build/pbbb/lib/python3.7/site-packages/twisted/internet/defer.py\", line 151, in maybeDeferred\n",
      "    result = f(*args, **kw)\n",
      "  File \"/home/moshez/src/penguin-bit-by-bit/build/pbbb/lib/python3.7/site-packages/klein/_app.py\", line 134, in execute_endpoint\n",
      "    return endpoint_f(self._instance, *args, **kwargs)\n",
      "  File \"/home/moshez/src/penguin-bit-by-bit/build/pbbb/lib/python3.7/site-packages/klein/_app.py\", line 250, in _f\n",
      "    return _call(instance, f, request, *a, **kw)\n",
      "  File \"/home/moshez/src/penguin-bit-by-bit/build/pbbb/lib/python3.7/site-packages/klein/_app.py\", line 55, in _call\n",
      "    result = __klein_f__(*args, **kwargs)\n",
      "builtins.TypeError: negate() got an unexpected keyword argument 'number'\n",
      "\n"
     ]
    }
   ],
   "source": [
    "endpoint = endpoints.serverFromString(reactor, \"tcp:8001\")\n",
    "site = server.Site(backend.resource())\n",
    "endpoint.listen(site)"
   ]
  },
  {
   "cell_type": "code",
   "execution_count": 23,
   "metadata": {},
   "outputs": [
    {
     "data": {
      "text/plain": [
       "<Deferred at 0x7f9379db1990>"
      ]
     },
     "execution_count": 23,
     "metadata": {},
     "output_type": "execute_result"
    }
   ],
   "source": [
    "d = treq.get(\"http://localhost:8001/negate/5\")\n",
    "d.addCallback(lambda x: x.json())\n",
    "d.addCallback(print)"
   ]
  },
  {
   "cell_type": "code",
   "execution_count": 24,
   "metadata": {},
   "outputs": [],
   "source": [
    "@backend.route(\"/mult/<int:number>/<int:number2>\")\n",
    "def negate(request, number, number2):\n",
    "    return json.dumps(number*number2)"
   ]
  },
  {
   "cell_type": "code",
   "execution_count": null,
   "metadata": {},
   "outputs": [],
   "source": []
  }
 ],
 "metadata": {
  "kernelspec": {
   "display_name": "Python 3",
   "language": "python",
   "name": "python3"
  },
  "language_info": {
   "codemirror_mode": {
    "name": "ipython",
    "version": 3
   },
   "file_extension": ".py",
   "mimetype": "text/x-python",
   "name": "python",
   "nbconvert_exporter": "python",
   "pygments_lexer": "ipython3",
   "version": "3.7.5"
  }
 },
 "nbformat": 4,
 "nbformat_minor": 4
}
