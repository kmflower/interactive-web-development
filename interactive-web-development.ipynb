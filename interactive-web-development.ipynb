{
 "cells": [
  {
   "cell_type": "markdown",
   "metadata": {},
   "source": [
    "# Interactively Writing Web Applications\n",
    "\n",
    "Reimagining the world of web development with Klein and Jupyter\n",
    "\n",
    "**Moshe Zadka**\n",
    "\n",
    "**https://cobordism.com**"
   ]
  },
  {
   "cell_type": "markdown",
   "metadata": {},
   "source": [
    "<br/><br/><br/><br/><br/><br/><br/><br/><br/><br/><br/><br/><br/><br/><br/><br/><br/><br/><br/><br/>"
   ]
  },
  {
   "cell_type": "markdown",
   "metadata": {},
   "source": [
    "## To The Editor...And Beyond?\n",
    "\n",
    "* Interactive\n",
    "* Development\n",
    "* Environment"
   ]
  },
  {
   "cell_type": "markdown",
   "metadata": {},
   "source": [
    "<br/><br/><br/><br/><br/><br/><br/><br/><br/><br/><br/><br/><br/><br/><br/><br/><br/><br/><br/><br/>"
   ]
  },
  {
   "cell_type": "markdown",
   "metadata": {},
   "source": [
    "## Auto-Reloading: A Non-Solution to a Non-Problem\n",
    "\n",
    "* Complicated and fragile\n",
    "* Downtime\n",
    "* Is it reloaded? But how about now?"
   ]
  },
  {
   "cell_type": "markdown",
   "metadata": {},
   "source": [
    "<br/><br/><br/><br/><br/><br/><br/><br/><br/><br/><br/><br/><br/><br/><br/><br/><br/><br/><br/><br/>"
   ]
  },
  {
   "cell_type": "markdown",
   "metadata": {},
   "source": [
    "## What If I Told You?\n",
    "\n",
    "I will write a web application during this talk.\n",
    "At each step,\n",
    "it will be usable.\n",
    "\n",
    "There will be no reloading...just progress."
   ]
  },
  {
   "cell_type": "markdown",
   "metadata": {},
   "source": [
    "<br/><br/><br/><br/><br/><br/><br/><br/><br/><br/><br/><br/><br/><br/><br/><br/><br/><br/><br/><br/>"
   ]
  },
  {
   "cell_type": "markdown",
   "metadata": {},
   "source": [
    "## Twisted, Meet Jupyter\n",
    "\n",
    "* Klein on Twisted\n",
    "* Twisted on Asyncioreactor\n",
    "* Jupyter on Asyncio event loop"
   ]
  },
  {
   "cell_type": "code",
   "execution_count": 1,
   "metadata": {},
   "outputs": [],
   "source": [
    "from twisted.internet import asyncioreactor\n",
    "asyncioreactor.install()"
   ]
  },
  {
   "cell_type": "markdown",
   "metadata": {},
   "source": [
    "<br/><br/><br/><br/><br/><br/><br/><br/><br/><br/><br/><br/><br/><br/><br/><br/><br/><br/><br/><br/>"
   ]
  },
  {
   "cell_type": "markdown",
   "metadata": {},
   "source": [
    "## The Imports\n",
    "\n",
    "In Lisp, every file ends with `))))))))))`.\n",
    "\n",
    "In Python, every file starts with `import import import`"
   ]
  },
  {
   "cell_type": "code",
   "execution_count": 2,
   "metadata": {},
   "outputs": [],
   "source": [
    "from twisted.internet import endpoints\n",
    "from twisted.web import server, template\n",
    "from twisted.web.template import tags, slot\n",
    "from twisted.internet import reactor, defer, task\n",
    "from klein import app, resource, route, Klein, Plating, Form, Field, Requirer, SessionProcurer\n",
    "from klein.interfaces import ISession\n",
    "from klein.storage.memory import MemorySessionStore\n",
    "import functools\n",
    "import operator\n",
    "import attr"
   ]
  },
  {
   "cell_type": "markdown",
   "metadata": {},
   "source": [
    "<br/><br/><br/><br/><br/><br/><br/><br/><br/><br/><br/><br/><br/><br/><br/><br/><br/><br/><br/><br/>"
   ]
  },
  {
   "cell_type": "markdown",
   "metadata": {},
   "source": [
    "## When Endpoint Met Resource\n",
    "\n",
    "* Klein wants to serve web requests, but doesn't know how to network\n",
    "* Endpoints know how to network, but not how to send content\n",
    "\n",
    "The romantic comedy coming soon to a conference near you!"
   ]
  },
  {
   "cell_type": "code",
   "execution_count": 3,
   "metadata": {},
   "outputs": [
    {
     "data": {
      "text/plain": [
       "<Deferred at 0x7f84c7055490 current result: <<class 'twisted.internet.tcp.Port'> of <class 'twisted.web.server.Site'> on 8000>>"
      ]
     },
     "execution_count": 3,
     "metadata": {},
     "output_type": "execute_result"
    }
   ],
   "source": [
    "endpoint = endpoints.serverFromString(reactor, \"tcp:8000\")\n",
    "site = server.Site(resource())\n",
    "endpoint.listen(site)"
   ]
  },
  {
   "cell_type": "markdown",
   "metadata": {},
   "source": [
    "<br/><br/><br/><br/><br/><br/><br/><br/><br/><br/><br/><br/><br/><br/><br/><br/><br/><br/><br/><br/>"
   ]
  },
  {
   "cell_type": "markdown",
   "metadata": {},
   "source": [
    "## Let's Check It Out"
   ]
  },
  {
   "cell_type": "code",
   "execution_count": 4,
   "metadata": {},
   "outputs": [
    {
     "data": {
      "text/plain": [
       "True"
      ]
     },
     "execution_count": 4,
     "metadata": {},
     "output_type": "execute_result"
    }
   ],
   "source": [
    "import webbrowser\n",
    "webbrowser.open(\"http://localhost:8000\")"
   ]
  },
  {
   "cell_type": "markdown",
   "metadata": {},
   "source": [
    "<br/><br/><br/><br/><br/><br/><br/><br/><br/><br/><br/><br/><br/><br/><br/><br/><br/><br/><br/><br/>"
   ]
  },
  {
   "cell_type": "markdown",
   "metadata": {},
   "source": [
    "## If You Don't Succeed At First, Redefine Success\n",
    "\n",
    "We are not in the *web development business*.\n",
    "\n",
    "We are in the *incremental web development business*."
   ]
  },
  {
   "cell_type": "markdown",
   "metadata": {},
   "source": [
    "<br/><br/><br/><br/><br/><br/><br/><br/><br/><br/><br/><br/><br/><br/><br/><br/><br/><br/><br/><br/>"
   ]
  },
  {
   "cell_type": "markdown",
   "metadata": {},
   "source": [
    "## Our First Page\n",
    "\n",
    "The root, using the classical CS tool \"Hello world\""
   ]
  },
  {
   "cell_type": "code",
   "execution_count": 5,
   "metadata": {
    "collapsed": true,
    "jupyter": {
     "outputs_hidden": true
    }
   },
   "outputs": [
    {
     "data": {
      "text/plain": [
       "True"
      ]
     },
     "execution_count": 5,
     "metadata": {},
     "output_type": "execute_result"
    }
   ],
   "source": [
    "@route(\"/\")\n",
    "def welcome(request):\n",
    "    return \"<html>Hello world</html>\"\n",
    "webbrowser.open(\"http://localhost:8000\")"
   ]
  },
  {
   "cell_type": "markdown",
   "metadata": {},
   "source": [
    "<br/><br/><br/><br/><br/><br/><br/><br/><br/><br/><br/><br/><br/><br/><br/><br/><br/><br/><br/><br/>"
   ]
  },
  {
   "cell_type": "markdown",
   "metadata": {},
   "source": [
    "## No Reloading -- No Race Conditions"
   ]
  },
  {
   "cell_type": "code",
   "execution_count": 6,
   "metadata": {},
   "outputs": [
    {
     "data": {
      "text/plain": [
       "True"
      ]
     },
     "execution_count": 6,
     "metadata": {},
     "output_type": "execute_result"
    }
   ],
   "source": [
    "@route('/about')\n",
    "def about(request):\n",
    "    return 'This is the about page'\n",
    "@route(\"/\")\n",
    "def welcome(request):\n",
    "    return '<html>Hello world. See <a href=\"/about\">About</a></html>'\n",
    "webbrowser.open(\"http://localhost:8000\")"
   ]
  },
  {
   "cell_type": "markdown",
   "metadata": {},
   "source": [
    "<br/><br/><br/><br/><br/><br/><br/><br/><br/><br/><br/><br/><br/><br/><br/><br/><br/><br/><br/><br/>"
   ]
  },
  {
   "cell_type": "markdown",
   "metadata": {},
   "source": [
    "## Modifying Routes\n",
    "\n",
    "Added a link to an existing route -- and it changed!"
   ]
  },
  {
   "cell_type": "markdown",
   "metadata": {},
   "source": [
    "<br/><br/><br/><br/><br/><br/><br/><br/><br/><br/><br/><br/><br/><br/><br/><br/><br/><br/><br/><br/>"
   ]
  },
  {
   "cell_type": "markdown",
   "metadata": {},
   "source": [
    "## Web Applications Do Stuff\n",
    "\n",
    "Static pages can be served with simpler techniques"
   ]
  },
  {
   "cell_type": "code",
   "execution_count": 38,
   "metadata": {},
   "outputs": [
    {
     "data": {
      "text/plain": [
       "True"
      ]
     },
     "execution_count": 38,
     "metadata": {},
     "output_type": "execute_result"
    }
   ],
   "source": [
    "@route('/double/<int:number>')\n",
    "def double(request, number):\n",
    "    result = number + number\n",
    "    return f'<html>{result}</html>'\n",
    "webbrowser.open(\"http://localhost:8000/double/12\")"
   ]
  },
  {
   "cell_type": "markdown",
   "metadata": {},
   "source": [
    "<br/><br/><br/><br/><br/><br/><br/><br/><br/><br/><br/><br/><br/><br/><br/><br/><br/><br/><br/><br/>"
   ]
  },
  {
   "cell_type": "markdown",
   "metadata": {},
   "source": [
    "## Imagine\n",
    "\n",
    "* Real applications have backends\n",
    "* Demo applications have...mock ends?\n",
    "* Fictional world: Computation as a Service"
   ]
  },
  {
   "cell_type": "code",
   "execution_count": 8,
   "metadata": {},
   "outputs": [],
   "source": [
    "delayed_multiplication = functools.partial(task.deferLater, reactor, 5, operator.mul)"
   ]
  },
  {
   "cell_type": "markdown",
   "metadata": {},
   "source": [
    "<br/><br/><br/><br/><br/><br/><br/><br/><br/><br/><br/><br/><br/><br/><br/><br/><br/><br/><br/><br/>"
   ]
  },
  {
   "cell_type": "markdown",
   "metadata": {},
   "source": [
    "## Using Slow Backends\n",
    "\n",
    "All backends are slow...if your users are impatient enough"
   ]
  },
  {
   "cell_type": "code",
   "execution_count": 9,
   "metadata": {},
   "outputs": [
    {
     "data": {
      "text/plain": [
       "True"
      ]
     },
     "execution_count": 9,
     "metadata": {},
     "output_type": "execute_result"
    }
   ],
   "source": [
    "@route('/hyp_squared/<float:a>/<float:b>')\n",
    "@defer.inlineCallbacks\n",
    "def hyp_squared(request, a, b):\n",
    "    a_squared = yield delayed_multiplication(a, a)\n",
    "    b_squared = yield delayed_multiplication(b, b)\n",
    "    result = a_squared + b_squared\n",
    "    return f'<html>{result}</html>'\n",
    "webbrowser.open(\"http://localhost:8000/hyp_squared/3.0/4.0\")"
   ]
  },
  {
   "cell_type": "markdown",
   "metadata": {},
   "source": [
    "<br/><br/><br/><br/><br/><br/><br/><br/><br/><br/><br/><br/><br/><br/><br/><br/><br/><br/><br/><br/>"
   ]
  },
  {
   "cell_type": "markdown",
   "metadata": {},
   "source": [
    "## Using Slow Backends\n",
    "\n",
    "* Scaling the backend is someone else's problem"
   ]
  },
  {
   "cell_type": "code",
   "execution_count": 10,
   "metadata": {},
   "outputs": [
    {
     "data": {
      "text/plain": [
       "True"
      ]
     },
     "execution_count": 10,
     "metadata": {},
     "output_type": "execute_result"
    }
   ],
   "source": [
    "@route('/hyp_squared/<float:a>/<float:b>')\n",
    "@defer.inlineCallbacks\n",
    "def hyp_squared(request, a, b):\n",
    "    d_a_squared = delayed_multiplication(a, a)\n",
    "    d_b_squared = delayed_multiplication(b, b)\n",
    "    a_squared, b_squared = yield defer.gatherResults([d_a_squared, d_b_squared])\n",
    "    result = a_squared + b_squared\n",
    "    return f'<html>{result}</html>'\n",
    "webbrowser.open(\"http://localhost:8000/hyp_squared/3.0/4.0\")"
   ]
  },
  {
   "cell_type": "markdown",
   "metadata": {},
   "source": [
    "<br/><br/><br/><br/><br/><br/><br/><br/><br/><br/><br/><br/><br/><br/><br/><br/><br/><br/><br/><br/>"
   ]
  },
  {
   "cell_type": "markdown",
   "metadata": {},
   "source": [
    "## Computatation as a Service\n",
    "\n",
    "* Now, with negation"
   ]
  },
  {
   "cell_type": "code",
   "execution_count": 11,
   "metadata": {},
   "outputs": [],
   "source": [
    "delayed_negation = functools.partial(task.deferLater, reactor, 2, operator.neg)"
   ]
  },
  {
   "cell_type": "markdown",
   "metadata": {},
   "source": [
    "<br/><br/><br/><br/><br/><br/><br/><br/><br/><br/><br/><br/><br/><br/><br/><br/><br/><br/><br/><br/>"
   ]
  },
  {
   "cell_type": "markdown",
   "metadata": {},
   "source": [
    "## Euclidean Distances\n",
    "\n",
    "* CaaS : Demos as Databases : Applications"
   ]
  },
  {
   "cell_type": "code",
   "execution_count": 12,
   "metadata": {},
   "outputs": [
    {
     "data": {
      "text/plain": [
       "True"
      ]
     },
     "execution_count": 12,
     "metadata": {},
     "output_type": "execute_result"
    }
   ],
   "source": [
    "@route('/distance_squared/<float:x1>/<float:y1>/<float:x2>/<float:y2>')\n",
    "@defer.inlineCallbacks\n",
    "def distance_squared(request, x1, y1, x2, y2):\n",
    "    x, y = map(delayed_negation, (x2, y2))\n",
    "    x.addCallback(operator.add, x1)\n",
    "    x.addCallback(lambda t: delayed_multiplication(t, t))\n",
    "    y.addCallback(operator.add, y1)\n",
    "    y.addCallback(lambda t: delayed_multiplication(t, t))\n",
    "    squares = yield defer.gatherResults([x, y])\n",
    "    result = sum(squares)\n",
    "    return f'<html>{result}</html>'\n",
    "webbrowser.open(\"http://localhost:8000/distance_squared/2.0/1.0/5.0/5.0\")"
   ]
  },
  {
   "cell_type": "markdown",
   "metadata": {},
   "source": [
    "<br/><br/><br/><br/><br/><br/><br/><br/><br/><br/><br/><br/><br/><br/><br/><br/><br/><br/><br/><br/>"
   ]
  },
  {
   "cell_type": "markdown",
   "metadata": {},
   "source": [
    "## Is It Worth It?\n",
    "\n",
    "Yes"
   ]
  },
  {
   "cell_type": "code",
   "execution_count": 13,
   "metadata": {},
   "outputs": [
    {
     "data": {
      "text/plain": [
       "True"
      ]
     },
     "execution_count": 13,
     "metadata": {},
     "output_type": "execute_result"
    }
   ],
   "source": [
    "@route('/slow_distance_squared/<float:x1>/<float:y1>/<float:x2>/<float:y2>')\n",
    "@defer.inlineCallbacks\n",
    "def slow_distance_squared(request, x1, y1, x2, y2):\n",
    "    x = x1 - (yield delayed_negation(x2))\n",
    "    y = y1 - (yield delayed_negation(y2))\n",
    "    x_sq = yield delayed_multiplication(x, x)\n",
    "    y_sq = yield delayed_multiplication(y, y)\n",
    "    result = x_sq + y_sq\n",
    "    return f'<html>{result}</html>'\n",
    "webbrowser.open(\"http://localhost:8000/slow_distance_squared/2.0/1.0/5.0/5.0\")"
   ]
  },
  {
   "cell_type": "markdown",
   "metadata": {},
   "source": [
    "<br/><br/><br/><br/><br/><br/><br/><br/><br/><br/><br/><br/><br/><br/><br/><br/><br/><br/><br/><br/>"
   ]
  },
  {
   "cell_type": "markdown",
   "metadata": {},
   "source": [
    "## Nicer HTML\n",
    "\n",
    "Now...with templates"
   ]
  },
  {
   "cell_type": "code",
   "execution_count": 14,
   "metadata": {},
   "outputs": [
    {
     "data": {
      "text/plain": [
       "True"
      ]
     },
     "execution_count": 14,
     "metadata": {},
     "output_type": "execute_result"
    }
   ],
   "source": [
    "from twisted.web import template\n",
    "class Greeter(template.Element):\n",
    "    loader = template.XMLString(\"\"\"\\\n",
    "         <html xmlns:t=\"http://twistedmatrix.com/ns/twisted.web.template/0.1\">\n",
    "         <h1>Greeting</h1>\n",
    "        </html>\n",
    "        \"\"\")\n",
    "\n",
    "@route('/greeting/<string:whom>')\n",
    "def greeting(request, whom):\n",
    "    return Greeter()\n",
    "webbrowser.open(\"http://localhost:8000/greeting/pyconweb\")"
   ]
  },
  {
   "cell_type": "markdown",
   "metadata": {},
   "source": [
    "<br/><br/><br/><br/><br/><br/><br/><br/><br/><br/><br/><br/><br/><br/><br/><br/><br/><br/><br/><br/>"
   ]
  },
  {
   "cell_type": "code",
   "execution_count": 15,
   "metadata": {},
   "outputs": [
    {
     "data": {
      "text/plain": [
       "True"
      ]
     },
     "execution_count": 15,
     "metadata": {},
     "output_type": "execute_result"
    }
   ],
   "source": [
    "@attr.s\n",
    "class Greeter(template.Element):\n",
    "    whom = attr.ib()\n",
    "    loader = template.XMLString(\"\"\"\\\n",
    "         <html xmlns:t=\"http://twistedmatrix.com/ns/twisted.web.template/0.1\">\n",
    "         <h1>Greeting</h1>\n",
    "        </html>\n",
    "        \"\"\")\n",
    "\n",
    "@route('/greeting/<string:whom>')\n",
    "def greeting(request, whom):\n",
    "    return Greeter(whom)\n",
    "webbrowser.open(\"http://localhost:8000/greeting/pyconweb\")"
   ]
  },
  {
   "cell_type": "code",
   "execution_count": 16,
   "metadata": {},
   "outputs": [
    {
     "ename": "SAXParseException",
     "evalue": "<unknown>:4:8: unclosed token",
     "output_type": "error",
     "traceback": [
      "\u001b[0;31m---------------------------------------------------------------------------\u001b[0m",
      "\u001b[0;31mExpatError\u001b[0m                                Traceback (most recent call last)",
      "\u001b[0;32m/usr/lib/python3.7/xml/sax/expatreader.py\u001b[0m in \u001b[0;36mfeed\u001b[0;34m(self, data, isFinal)\u001b[0m\n\u001b[1;32m    216\u001b[0m             \u001b[0;31m# except when invoked from close.\u001b[0m\u001b[0;34m\u001b[0m\u001b[0;34m\u001b[0m\u001b[0;34m\u001b[0m\u001b[0m\n\u001b[0;32m--> 217\u001b[0;31m             \u001b[0mself\u001b[0m\u001b[0;34m.\u001b[0m\u001b[0m_parser\u001b[0m\u001b[0;34m.\u001b[0m\u001b[0mParse\u001b[0m\u001b[0;34m(\u001b[0m\u001b[0mdata\u001b[0m\u001b[0;34m,\u001b[0m \u001b[0misFinal\u001b[0m\u001b[0;34m)\u001b[0m\u001b[0;34m\u001b[0m\u001b[0;34m\u001b[0m\u001b[0m\n\u001b[0m\u001b[1;32m    218\u001b[0m         \u001b[0;32mexcept\u001b[0m \u001b[0mexpat\u001b[0m\u001b[0;34m.\u001b[0m\u001b[0merror\u001b[0m \u001b[0;32mas\u001b[0m \u001b[0me\u001b[0m\u001b[0;34m:\u001b[0m\u001b[0;34m\u001b[0m\u001b[0;34m\u001b[0m\u001b[0m\n",
      "\u001b[0;31mExpatError\u001b[0m: unclosed token: line 4, column 8",
      "\nDuring handling of the above exception, another exception occurred:\n",
      "\u001b[0;31mSAXParseException\u001b[0m                         Traceback (most recent call last)",
      "\u001b[0;32m<ipython-input-16-3e111d58272e>\u001b[0m in \u001b[0;36m<module>\u001b[0;34m\u001b[0m\n\u001b[1;32m      4\u001b[0m          \u001b[0;34m<\u001b[0m\u001b[0mspan\u001b[0m \u001b[0mt\u001b[0m\u001b[0;34m:\u001b[0m\u001b[0mrender\u001b[0m\u001b[0;34m=\u001b[0m\u001b[0;34m\"name\"\u001b[0m\u001b[0;34m>\u001b[0m\u001b[0mDefault\u001b[0m \u001b[0mname\u001b[0m\u001b[0;34m<\u001b[0m\u001b[0;34m/\u001b[0m\u001b[0mspan\u001b[0m\u001b[0;34m>\u001b[0m\u001b[0;34m\u001b[0m\u001b[0;34m\u001b[0m\u001b[0m\n\u001b[1;32m      5\u001b[0m         \u001b[0;34m<\u001b[0m\u001b[0;34m/\u001b[0m\u001b[0mhtml\u001b[0m\u001b[0;34m\u001b[0m\u001b[0;34m\u001b[0m\u001b[0m\n\u001b[0;32m----> 6\u001b[0;31m         \"\"\")\n\u001b[0m",
      "\u001b[0;32m~/src/ppb-game/build/penguin/lib/python3.7/site-packages/twisted/web/template.py\u001b[0m in \u001b[0;36m__init__\u001b[0;34m(self, s)\u001b[0m\n\u001b[1;32m    400\u001b[0m             \u001b[0ms\u001b[0m \u001b[0;34m=\u001b[0m \u001b[0ms\u001b[0m\u001b[0;34m.\u001b[0m\u001b[0mdecode\u001b[0m\u001b[0;34m(\u001b[0m\u001b[0;34m'utf8'\u001b[0m\u001b[0;34m)\u001b[0m\u001b[0;34m\u001b[0m\u001b[0;34m\u001b[0m\u001b[0m\n\u001b[1;32m    401\u001b[0m \u001b[0;34m\u001b[0m\u001b[0m\n\u001b[0;32m--> 402\u001b[0;31m         \u001b[0mself\u001b[0m\u001b[0;34m.\u001b[0m\u001b[0m_loadedTemplate\u001b[0m \u001b[0;34m=\u001b[0m \u001b[0m_flatsaxParse\u001b[0m\u001b[0;34m(\u001b[0m\u001b[0mNativeStringIO\u001b[0m\u001b[0;34m(\u001b[0m\u001b[0ms\u001b[0m\u001b[0;34m)\u001b[0m\u001b[0;34m)\u001b[0m\u001b[0;34m\u001b[0m\u001b[0;34m\u001b[0m\u001b[0m\n\u001b[0m\u001b[1;32m    403\u001b[0m \u001b[0;34m\u001b[0m\u001b[0m\n\u001b[1;32m    404\u001b[0m \u001b[0;34m\u001b[0m\u001b[0m\n",
      "\u001b[0;32m~/src/ppb-game/build/penguin/lib/python3.7/site-packages/twisted/web/template.py\u001b[0m in \u001b[0;36m_flatsaxParse\u001b[0;34m(fl)\u001b[0m\n\u001b[1;32m    354\u001b[0m     \u001b[0mparser\u001b[0m\u001b[0;34m.\u001b[0m\u001b[0msetProperty\u001b[0m\u001b[0;34m(\u001b[0m\u001b[0mhandler\u001b[0m\u001b[0;34m.\u001b[0m\u001b[0mproperty_lexical_handler\u001b[0m\u001b[0;34m,\u001b[0m \u001b[0ms\u001b[0m\u001b[0;34m)\u001b[0m\u001b[0;34m\u001b[0m\u001b[0;34m\u001b[0m\u001b[0m\n\u001b[1;32m    355\u001b[0m \u001b[0;34m\u001b[0m\u001b[0m\n\u001b[0;32m--> 356\u001b[0;31m     \u001b[0mparser\u001b[0m\u001b[0;34m.\u001b[0m\u001b[0mparse\u001b[0m\u001b[0;34m(\u001b[0m\u001b[0mfl\u001b[0m\u001b[0;34m)\u001b[0m\u001b[0;34m\u001b[0m\u001b[0;34m\u001b[0m\u001b[0m\n\u001b[0m\u001b[1;32m    357\u001b[0m \u001b[0;34m\u001b[0m\u001b[0m\n\u001b[1;32m    358\u001b[0m     \u001b[0;32mreturn\u001b[0m \u001b[0ms\u001b[0m\u001b[0;34m.\u001b[0m\u001b[0mdocument\u001b[0m\u001b[0;34m\u001b[0m\u001b[0;34m\u001b[0m\u001b[0m\n",
      "\u001b[0;32m/usr/lib/python3.7/xml/sax/expatreader.py\u001b[0m in \u001b[0;36mparse\u001b[0;34m(self, source)\u001b[0m\n\u001b[1;32m    109\u001b[0m             \u001b[0mself\u001b[0m\u001b[0;34m.\u001b[0m\u001b[0mreset\u001b[0m\u001b[0;34m(\u001b[0m\u001b[0;34m)\u001b[0m\u001b[0;34m\u001b[0m\u001b[0;34m\u001b[0m\u001b[0m\n\u001b[1;32m    110\u001b[0m             \u001b[0mself\u001b[0m\u001b[0;34m.\u001b[0m\u001b[0m_cont_handler\u001b[0m\u001b[0;34m.\u001b[0m\u001b[0msetDocumentLocator\u001b[0m\u001b[0;34m(\u001b[0m\u001b[0mExpatLocator\u001b[0m\u001b[0;34m(\u001b[0m\u001b[0mself\u001b[0m\u001b[0;34m)\u001b[0m\u001b[0;34m)\u001b[0m\u001b[0;34m\u001b[0m\u001b[0;34m\u001b[0m\u001b[0m\n\u001b[0;32m--> 111\u001b[0;31m             \u001b[0mxmlreader\u001b[0m\u001b[0;34m.\u001b[0m\u001b[0mIncrementalParser\u001b[0m\u001b[0;34m.\u001b[0m\u001b[0mparse\u001b[0m\u001b[0;34m(\u001b[0m\u001b[0mself\u001b[0m\u001b[0;34m,\u001b[0m \u001b[0msource\u001b[0m\u001b[0;34m)\u001b[0m\u001b[0;34m\u001b[0m\u001b[0;34m\u001b[0m\u001b[0m\n\u001b[0m\u001b[1;32m    112\u001b[0m         \u001b[0;32mexcept\u001b[0m\u001b[0;34m:\u001b[0m\u001b[0;34m\u001b[0m\u001b[0;34m\u001b[0m\u001b[0m\n\u001b[1;32m    113\u001b[0m             \u001b[0;31m# bpo-30264: Close the source on error to not leak resources:\u001b[0m\u001b[0;34m\u001b[0m\u001b[0;34m\u001b[0m\u001b[0;34m\u001b[0m\u001b[0m\n",
      "\u001b[0;32m/usr/lib/python3.7/xml/sax/xmlreader.py\u001b[0m in \u001b[0;36mparse\u001b[0;34m(self, source)\u001b[0m\n\u001b[1;32m    125\u001b[0m             \u001b[0mself\u001b[0m\u001b[0;34m.\u001b[0m\u001b[0mfeed\u001b[0m\u001b[0;34m(\u001b[0m\u001b[0mbuffer\u001b[0m\u001b[0;34m)\u001b[0m\u001b[0;34m\u001b[0m\u001b[0;34m\u001b[0m\u001b[0m\n\u001b[1;32m    126\u001b[0m             \u001b[0mbuffer\u001b[0m \u001b[0;34m=\u001b[0m \u001b[0mfile\u001b[0m\u001b[0;34m.\u001b[0m\u001b[0mread\u001b[0m\u001b[0;34m(\u001b[0m\u001b[0mself\u001b[0m\u001b[0;34m.\u001b[0m\u001b[0m_bufsize\u001b[0m\u001b[0;34m)\u001b[0m\u001b[0;34m\u001b[0m\u001b[0;34m\u001b[0m\u001b[0m\n\u001b[0;32m--> 127\u001b[0;31m         \u001b[0mself\u001b[0m\u001b[0;34m.\u001b[0m\u001b[0mclose\u001b[0m\u001b[0;34m(\u001b[0m\u001b[0;34m)\u001b[0m\u001b[0;34m\u001b[0m\u001b[0;34m\u001b[0m\u001b[0m\n\u001b[0m\u001b[1;32m    128\u001b[0m \u001b[0;34m\u001b[0m\u001b[0m\n\u001b[1;32m    129\u001b[0m     \u001b[0;32mdef\u001b[0m \u001b[0mfeed\u001b[0m\u001b[0;34m(\u001b[0m\u001b[0mself\u001b[0m\u001b[0;34m,\u001b[0m \u001b[0mdata\u001b[0m\u001b[0;34m)\u001b[0m\u001b[0;34m:\u001b[0m\u001b[0;34m\u001b[0m\u001b[0;34m\u001b[0m\u001b[0m\n",
      "\u001b[0;32m/usr/lib/python3.7/xml/sax/expatreader.py\u001b[0m in \u001b[0;36mclose\u001b[0;34m(self)\u001b[0m\n\u001b[1;32m    238\u001b[0m             \u001b[0;32mreturn\u001b[0m\u001b[0;34m\u001b[0m\u001b[0;34m\u001b[0m\u001b[0m\n\u001b[1;32m    239\u001b[0m         \u001b[0;32mtry\u001b[0m\u001b[0;34m:\u001b[0m\u001b[0;34m\u001b[0m\u001b[0;34m\u001b[0m\u001b[0m\n\u001b[0;32m--> 240\u001b[0;31m             \u001b[0mself\u001b[0m\u001b[0;34m.\u001b[0m\u001b[0mfeed\u001b[0m\u001b[0;34m(\u001b[0m\u001b[0;34m\"\"\u001b[0m\u001b[0;34m,\u001b[0m \u001b[0misFinal\u001b[0m \u001b[0;34m=\u001b[0m \u001b[0;36m1\u001b[0m\u001b[0;34m)\u001b[0m\u001b[0;34m\u001b[0m\u001b[0;34m\u001b[0m\u001b[0m\n\u001b[0m\u001b[1;32m    241\u001b[0m             \u001b[0mself\u001b[0m\u001b[0;34m.\u001b[0m\u001b[0m_cont_handler\u001b[0m\u001b[0;34m.\u001b[0m\u001b[0mendDocument\u001b[0m\u001b[0;34m(\u001b[0m\u001b[0;34m)\u001b[0m\u001b[0;34m\u001b[0m\u001b[0;34m\u001b[0m\u001b[0m\n\u001b[1;32m    242\u001b[0m             \u001b[0mself\u001b[0m\u001b[0;34m.\u001b[0m\u001b[0m_parsing\u001b[0m \u001b[0;34m=\u001b[0m \u001b[0;36m0\u001b[0m\u001b[0;34m\u001b[0m\u001b[0;34m\u001b[0m\u001b[0m\n",
      "\u001b[0;32m/usr/lib/python3.7/xml/sax/expatreader.py\u001b[0m in \u001b[0;36mfeed\u001b[0;34m(self, data, isFinal)\u001b[0m\n\u001b[1;32m    219\u001b[0m             \u001b[0mexc\u001b[0m \u001b[0;34m=\u001b[0m \u001b[0mSAXParseException\u001b[0m\u001b[0;34m(\u001b[0m\u001b[0mexpat\u001b[0m\u001b[0;34m.\u001b[0m\u001b[0mErrorString\u001b[0m\u001b[0;34m(\u001b[0m\u001b[0me\u001b[0m\u001b[0;34m.\u001b[0m\u001b[0mcode\u001b[0m\u001b[0;34m)\u001b[0m\u001b[0;34m,\u001b[0m \u001b[0me\u001b[0m\u001b[0;34m,\u001b[0m \u001b[0mself\u001b[0m\u001b[0;34m)\u001b[0m\u001b[0;34m\u001b[0m\u001b[0;34m\u001b[0m\u001b[0m\n\u001b[1;32m    220\u001b[0m             \u001b[0;31m# FIXME: when to invoke error()?\u001b[0m\u001b[0;34m\u001b[0m\u001b[0;34m\u001b[0m\u001b[0;34m\u001b[0m\u001b[0m\n\u001b[0;32m--> 221\u001b[0;31m             \u001b[0mself\u001b[0m\u001b[0;34m.\u001b[0m\u001b[0m_err_handler\u001b[0m\u001b[0;34m.\u001b[0m\u001b[0mfatalError\u001b[0m\u001b[0;34m(\u001b[0m\u001b[0mexc\u001b[0m\u001b[0;34m)\u001b[0m\u001b[0;34m\u001b[0m\u001b[0;34m\u001b[0m\u001b[0m\n\u001b[0m\u001b[1;32m    222\u001b[0m \u001b[0;34m\u001b[0m\u001b[0m\n\u001b[1;32m    223\u001b[0m     \u001b[0;32mdef\u001b[0m \u001b[0m_close_source\u001b[0m\u001b[0;34m(\u001b[0m\u001b[0mself\u001b[0m\u001b[0;34m)\u001b[0m\u001b[0;34m:\u001b[0m\u001b[0;34m\u001b[0m\u001b[0;34m\u001b[0m\u001b[0m\n",
      "\u001b[0;32m/usr/lib/python3.7/xml/sax/handler.py\u001b[0m in \u001b[0;36mfatalError\u001b[0;34m(self, exception)\u001b[0m\n\u001b[1;32m     36\u001b[0m     \u001b[0;32mdef\u001b[0m \u001b[0mfatalError\u001b[0m\u001b[0;34m(\u001b[0m\u001b[0mself\u001b[0m\u001b[0;34m,\u001b[0m \u001b[0mexception\u001b[0m\u001b[0;34m)\u001b[0m\u001b[0;34m:\u001b[0m\u001b[0;34m\u001b[0m\u001b[0;34m\u001b[0m\u001b[0m\n\u001b[1;32m     37\u001b[0m         \u001b[0;34m\"Handle a non-recoverable error.\"\u001b[0m\u001b[0;34m\u001b[0m\u001b[0;34m\u001b[0m\u001b[0m\n\u001b[0;32m---> 38\u001b[0;31m         \u001b[0;32mraise\u001b[0m \u001b[0mexception\u001b[0m\u001b[0;34m\u001b[0m\u001b[0;34m\u001b[0m\u001b[0m\n\u001b[0m\u001b[1;32m     39\u001b[0m \u001b[0;34m\u001b[0m\u001b[0m\n\u001b[1;32m     40\u001b[0m     \u001b[0;32mdef\u001b[0m \u001b[0mwarning\u001b[0m\u001b[0;34m(\u001b[0m\u001b[0mself\u001b[0m\u001b[0;34m,\u001b[0m \u001b[0mexception\u001b[0m\u001b[0;34m)\u001b[0m\u001b[0;34m:\u001b[0m\u001b[0;34m\u001b[0m\u001b[0;34m\u001b[0m\u001b[0m\n",
      "\u001b[0;31mSAXParseException\u001b[0m: <unknown>:4:8: unclosed token"
     ]
    }
   ],
   "source": [
    "Greeter.loader = template.XMLString(\"\"\"\\\n",
    "         <html xmlns:t=\"http://twistedmatrix.com/ns/twisted.web.template/0.1\">\n",
    "         <h1>Greeting</h1>\n",
    "         <span t:render=\"name\">Default name</span>\n",
    "        </html\n",
    "        \"\"\")"
   ]
  },
  {
   "cell_type": "code",
   "execution_count": 17,
   "metadata": {},
   "outputs": [
    {
     "data": {
      "text/plain": [
       "True"
      ]
     },
     "execution_count": 17,
     "metadata": {},
     "output_type": "execute_result"
    },
    {
     "name": "stderr",
     "output_type": "stream",
     "text": [
      "An error occurred while rendering the response.\n",
      "Traceback (most recent call last):\n",
      "  File \"/home/moshez/src/ppb-game/build/penguin/lib/python3.7/site-packages/twisted/internet/defer.py\", line 654, in _runCallbacks\n",
      "    current.result = callback(current.result, *args, **kw)\n",
      "  File \"/home/moshez/src/ppb-game/build/penguin/lib/python3.7/site-packages/klein/_resource.py\", line 220, in process\n",
      "    renderElement(request, r)\n",
      "  File \"/home/moshez/src/ppb-game/build/penguin/lib/python3.7/site-packages/twisted/web/template.py\", line 550, in renderElement\n",
      "    d = flatten(request, element, request.write)\n",
      "  File \"/home/moshez/src/ppb-game/build/penguin/lib/python3.7/site-packages/twisted/web/_flatten.py\", line 401, in flatten\n",
      "    _writeFlattenedData(state, write, result)\n",
      "--- <exception caught here> ---\n",
      "  File \"/home/moshez/src/ppb-game/build/penguin/lib/python3.7/site-packages/twisted/web/_flatten.py\", line 362, in _writeFlattenedData\n",
      "    element = next(state)\n",
      "  File \"/home/moshez/src/ppb-game/build/penguin/lib/python3.7/site-packages/twisted/web/_flatten.py\", line 330, in _flattenTree\n",
      "    raise FlattenerError(e, roots, extract_tb(exc_info()[2]))\n",
      "twisted.web.error.FlattenerError: Exception while flattening:\n",
      "  Greeter(whom='pyconweb')\n",
      "  [Tag('html', children=['\\n', '         ', Tag('h1', children=['Greeting']), '\\n', '         ', Tag('span', children=['Default name']), '\\n', '        '])]\n",
      "  Tag <html>\n",
      "  ['\\n', '         ', Tag('h1', children=['Greeting']), '\\n', '         ', Tag('span', children=['Default name']), '\\n', '        ']\n",
      "  Tag <span>\n",
      "  File \"/home/moshez/src/ppb-game/build/penguin/lib/python3.7/site-packages/twisted/web/_flatten.py\", line 321, in _flattenTree\n",
      "    element = next(stack[-1])\n",
      "  File \"/home/moshez/src/ppb-game/build/penguin/lib/python3.7/site-packages/twisted/web/_flatten.py\", line 236, in _flattenElement\n",
      "    renderMethod = renderFactory.lookupRenderMethod(rendererName)\n",
      "  File \"/home/moshez/src/ppb-game/build/penguin/lib/python3.7/site-packages/twisted/web/_element.py\", line 167, in lookupRenderMethod\n",
      "    raise MissingRenderMethod(self, name)\n",
      "MissingRenderMethod: (Greeter(whom='pyconweb'), 'name')\n",
      "\n",
      "\n"
     ]
    }
   ],
   "source": [
    "Greeter.loader = template.XMLString(\"\"\"\\\n",
    "         <html xmlns:t=\"http://twistedmatrix.com/ns/twisted.web.template/0.1\">\n",
    "         <h1>Greeting</h1>\n",
    "         <span t:render=\"name\">Default name</span>\n",
    "        </html>\n",
    "        \"\"\")\n",
    "webbrowser.open(\"http://localhost:8000/greeting/pyconweb\")"
   ]
  },
  {
   "cell_type": "code",
   "execution_count": 18,
   "metadata": {},
   "outputs": [
    {
     "data": {
      "text/plain": [
       "True"
      ]
     },
     "execution_count": 18,
     "metadata": {},
     "output_type": "execute_result"
    }
   ],
   "source": [
    "Greeter.name = template.renderer(lambda self, request, tag: self.whom)\n",
    "webbrowser.open(\"http://localhost:8000/greeting/pyconweb\")"
   ]
  },
  {
   "cell_type": "code",
   "execution_count": 19,
   "metadata": {},
   "outputs": [
    {
     "data": {
      "text/plain": [
       "True"
      ]
     },
     "execution_count": 19,
     "metadata": {},
     "output_type": "execute_result"
    }
   ],
   "source": [
    "webbrowser.open(\"http://localhost:8000/greeting/<blink>pyconweb\")"
   ]
  },
  {
   "cell_type": "code",
   "execution_count": 20,
   "metadata": {},
   "outputs": [
    {
     "data": {
      "text/plain": [
       "True"
      ]
     },
     "execution_count": 20,
     "metadata": {},
     "output_type": "execute_result"
    }
   ],
   "source": [
    "Greeter.loader = template.XMLString(\"\"\"\\\n",
    "         <html xmlns:t=\"http://twistedmatrix.com/ns/twisted.web.template/0.1\">\n",
    "         <h1>Greeting</h1>\n",
    "         <h2><span t:render=\"name\">Default name</span></h2>\n",
    "        Your name has <span t:render=\"count\">NUMBER</span> letters!\n",
    "        </html>\n",
    "        \"\"\")\n",
    "\n",
    "Greeter.count = template.renderer(lambda self, request, tag: str(len(self.whom)))\n",
    "webbrowser.open(\"http://localhost:8000/greeting/pyconweb\")"
   ]
  },
  {
   "cell_type": "code",
   "execution_count": 21,
   "metadata": {},
   "outputs": [
    {
     "data": {
      "text/plain": [
       "True"
      ]
     },
     "execution_count": 21,
     "metadata": {},
     "output_type": "execute_result"
    }
   ],
   "source": [
    "Greeter.loader = template.XMLString(\"\"\"\\\n",
    "         <html xmlns:t=\"http://twistedmatrix.com/ns/twisted.web.template/0.1\">\n",
    "         <h1>Greeting</h1>\n",
    "         <h2><span t:render=\"name\">Default name</span></h2>\n",
    "        Your name has <span t:render=\"count\">NUMBER</span> letters!\n",
    "        </html>\n",
    "        \"\"\")\n",
    "\n",
    "@defer.inlineCallbacks\n",
    "def count(self, request, tag):\n",
    "    base = len(self.whom)\n",
    "    squared = yield delayed_multiplication(base, base)\n",
    "    return str(squared)\n",
    "\n",
    "Greeter.count = template.renderer(count)\n",
    "webbrowser.open(\"http://localhost:8000/greeting/pyconweb\")"
   ]
  },
  {
   "cell_type": "code",
   "execution_count": 22,
   "metadata": {},
   "outputs": [
    {
     "data": {
      "text/plain": [
       "True"
      ]
     },
     "execution_count": 22,
     "metadata": {},
     "output_type": "execute_result"
    }
   ],
   "source": [
    "Greeter.loader = template.XMLString(\"\"\"\\\n",
    "         <html xmlns:t=\"http://twistedmatrix.com/ns/twisted.web.template/0.1\">\n",
    "         <h1>Greeting</h1>\n",
    "         <h2><span t:render=\"name\">Default name</span></h2>\n",
    "        <p>Your name has the square root of <span t:render=\"count\">NUMBER</span> letters!</p>\n",
    "        If you put repeat it 10 times, it will have <span t:render=\"tenx\">NUMBER</span> letters!\n",
    "        </html>\n",
    "        \"\"\")\n",
    "\n",
    "@defer.inlineCallbacks\n",
    "def tenx(self, request, tag):\n",
    "    base = len(self.whom)\n",
    "    result = yield delayed_multiplication(base, 10)\n",
    "    return str(result)\n",
    "\n",
    "Greeter.tenx = template.renderer(tenx)\n",
    "webbrowser.open(\"http://localhost:8000/greeting/pyconweb\")"
   ]
  },
  {
   "cell_type": "code",
   "execution_count": 24,
   "metadata": {},
   "outputs": [],
   "source": [
    "sessions = MemorySessionStore()\n",
    "\n",
    "requirer = Requirer()\n",
    "\n",
    "@requirer.prerequisite([ISession])\n",
    "def procurer(request):\n",
    "    return SessionProcurer(sessions).procureSession(request)"
   ]
  },
  {
   "cell_type": "code",
   "execution_count": 25,
   "metadata": {},
   "outputs": [],
   "source": [
    "style = Plating(tags=tags.html(tags.body(\n",
    "    tags.h1(\"Form example\"),\n",
    "    tags.div(slot(Plating.CONTENT))))"
   ]
  },
  {
   "cell_type": "code",
   "execution_count": 35,
   "metadata": {},
   "outputs": [],
   "source": [
    "@requirer.require(\n",
    "    style.routed(\n",
    "        app.route(\"/form\", methods=[\"POST\"]),\n",
    "        tags.div(tags.p('The name is: ', slot(\"name\")),\n",
    "        tags.p(\"The square is: \", slot(\"square\")))\n",
    "    ),\n",
    "    root=Field.number(minimum=1, maximum=10), name=Field.text(),\n",
    ")\n",
    "@defer.inlineCallbacks\n",
    "def postHandler(root, name):\n",
    "    square = yield delayed_multiplication(root, root)\n",
    "    return dict(name=name, square=square)"
   ]
  },
  {
   "cell_type": "code",
   "execution_count": 36,
   "metadata": {},
   "outputs": [],
   "source": [
    "@requirer.require(\n",
    "    style.routed(\n",
    "        app.route(\"/form\", methods=[\"GET\"]),\n",
    "\n",
    "        tags.div(slot(\"form_contents\"))\n",
    "    ),\n",
    "    form_contents=Form.rendererFor(postHandler, action=u\"/form?post=yes\")\n",
    ")\n",
    "def formRenderer(form_contents):\n",
    "    return dict(form_contents=form_contents)"
   ]
  },
  {
   "cell_type": "code",
   "execution_count": 37,
   "metadata": {},
   "outputs": [
    {
     "data": {
      "text/plain": [
       "True"
      ]
     },
     "execution_count": 37,
     "metadata": {},
     "output_type": "execute_result"
    }
   ],
   "source": [
    "webbrowser.open(\"http://localhost:8000/form\")"
   ]
  },
  {
   "cell_type": "code",
   "execution_count": null,
   "metadata": {},
   "outputs": [],
   "source": []
  }
 ],
 "metadata": {
  "kernelspec": {
   "display_name": "Python 3",
   "language": "python",
   "name": "python3"
  },
  "language_info": {
   "codemirror_mode": {
    "name": "ipython",
    "version": 3
   },
   "file_extension": ".py",
   "mimetype": "text/x-python",
   "name": "python",
   "nbconvert_exporter": "python",
   "pygments_lexer": "ipython3",
   "version": "3.7.5"
  }
 },
 "nbformat": 4,
 "nbformat_minor": 4
}
