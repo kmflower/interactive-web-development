{
 "cells": [
  {
   "cell_type": "markdown",
   "metadata": {},
   "source": [
    "# Interactively Writing Web Applications\n",
    "\n",
    "Reimagining the world of web development with Klein and Jupyter\n",
    "\n",
    "**Moshe Zadka**\n",
    "\n",
    "**https://cobordism.com**"
   ]
  },
  {
   "cell_type": "markdown",
   "metadata": {},
   "source": [
    "<br/><br/><br/><br/><br/><br/><br/><br/><br/><br/><br/><br/><br/><br/><br/><br/><br/><br/><br/><br/>"
   ]
  },
  {
   "cell_type": "markdown",
   "metadata": {},
   "source": [
    "## The The Editor...And Beyond\n",
    "* Interactive\n",
    "* Development\n",
    "* Environment"
   ]
  },
  {
   "cell_type": "markdown",
   "metadata": {},
   "source": [
    "<br/><br/><br/><br/><br/><br/><br/><br/><br/><br/><br/><br/><br/><br/><br/><br/><br/><br/><br/><br/>"
   ]
  },
  {
   "cell_type": "markdown",
   "metadata": {},
   "source": [
    "## Auto-Reloading: A Non-Solution to a Non-Problem\n",
    "\n",
    "* Complicated and fragile\n",
    "* Downtime\n",
    "* Is it reloaded? But how about now?"
   ]
  },
  {
   "cell_type": "markdown",
   "metadata": {},
   "source": [
    "<br/><br/><br/><br/><br/><br/><br/><br/><br/><br/><br/><br/><br/><br/><br/><br/><br/><br/><br/><br/>"
   ]
  },
  {
   "cell_type": "markdown",
   "metadata": {},
   "source": [
    "## What If I Told You?\n",
    "\n",
    "I will write a web application during this talk.\n",
    "At each step,\n",
    "it will be usable.\n",
    "\n",
    "There will be no reloading...just progress."
   ]
  },
  {
   "cell_type": "markdown",
   "metadata": {},
   "source": [
    "<br/><br/><br/><br/><br/><br/><br/><br/><br/><br/><br/><br/><br/><br/><br/><br/><br/><br/><br/><br/>"
   ]
  },
  {
   "cell_type": "markdown",
   "metadata": {},
   "source": [
    "## Twisted, Meet Jupyter\n",
    "\n",
    "* Klein on Twisted\n",
    "* Twisted on Asyncioreactor\n",
    "* Jupyter on Asyncio event loop"
   ]
  },
  {
   "cell_type": "code",
   "execution_count": 1,
   "metadata": {},
   "outputs": [],
   "source": [
    "from twisted.internet import asyncioreactor\n",
    "asyncioreactor.install()"
   ]
  },
  {
   "cell_type": "markdown",
   "metadata": {},
   "source": [
    "<br/><br/><br/><br/><br/><br/><br/><br/><br/><br/><br/><br/><br/><br/><br/><br/><br/><br/><br/><br/>"
   ]
  },
  {
   "cell_type": "markdown",
   "metadata": {},
   "source": [
    "## The Imports\n",
    "\n",
    "In Lisp, every file ends with `))))))))))`.\n",
    "\n",
    "In Python, every file starts with `import import import`"
   ]
  },
  {
   "cell_type": "code",
   "execution_count": 9,
   "metadata": {},
   "outputs": [],
   "source": [
    "from twisted.internet import endpoints\n",
    "from twisted.web import server\n",
    "from twisted.internet import reactor, defer, task\n",
    "from klein import app, resource, route, Klein\n",
    "import functools\n",
    "import operator"
   ]
  },
  {
   "cell_type": "markdown",
   "metadata": {},
   "source": [
    "<br/><br/><br/><br/><br/><br/><br/><br/><br/><br/><br/><br/><br/><br/><br/><br/><br/><br/><br/><br/>"
   ]
  },
  {
   "cell_type": "markdown",
   "metadata": {},
   "source": [
    "## When Endpoint Met Resource\n",
    "\n",
    "* Klein wants to serve web requests, but doesn't know how to network\n",
    "* Endpoints know how to network, but not how to send content\n",
    "\n",
    "The romantic comedy coming soon to a conference near you!"
   ]
  },
  {
   "cell_type": "code",
   "execution_count": 3,
   "metadata": {},
   "outputs": [
    {
     "data": {
      "text/plain": [
       "<Deferred at 0x7f4ecda1df10 current result: <<class 'twisted.internet.tcp.Port'> of <class 'twisted.web.server.Site'> on 8000>>"
      ]
     },
     "execution_count": 3,
     "metadata": {},
     "output_type": "execute_result"
    }
   ],
   "source": [
    "endpoint = endpoints.serverFromString(reactor, \"tcp:8000\")\n",
    "site = server.Site(resource())\n",
    "endpoint.listen(site)"
   ]
  },
  {
   "cell_type": "markdown",
   "metadata": {},
   "source": [
    "<br/><br/><br/><br/><br/><br/><br/><br/><br/><br/><br/><br/><br/><br/><br/><br/><br/><br/><br/><br/>"
   ]
  },
  {
   "cell_type": "markdown",
   "metadata": {},
   "source": [
    "## Let's Check It Out"
   ]
  },
  {
   "cell_type": "code",
   "execution_count": 4,
   "metadata": {},
   "outputs": [
    {
     "data": {
      "text/plain": [
       "True"
      ]
     },
     "execution_count": 4,
     "metadata": {},
     "output_type": "execute_result"
    }
   ],
   "source": [
    "import webbrowser\n",
    "webbrowser.open(\"http://localhost:8000\")"
   ]
  },
  {
   "cell_type": "markdown",
   "metadata": {},
   "source": [
    "<br/><br/><br/><br/><br/><br/><br/><br/><br/><br/><br/><br/><br/><br/><br/><br/><br/><br/><br/><br/>"
   ]
  },
  {
   "cell_type": "markdown",
   "metadata": {},
   "source": [
    "## If You Don't Succeed At First, Redefine Success\n",
    "\n",
    "We are not in the *web development business*.\n",
    "\n",
    "We are in the *incremental web development business*."
   ]
  },
  {
   "cell_type": "markdown",
   "metadata": {},
   "source": [
    "<br/><br/><br/><br/><br/><br/><br/><br/><br/><br/><br/><br/><br/><br/><br/><br/><br/><br/><br/><br/>"
   ]
  },
  {
   "cell_type": "code",
   "execution_count": 5,
   "metadata": {},
   "outputs": [
    {
     "data": {
      "text/plain": [
       "True"
      ]
     },
     "execution_count": 5,
     "metadata": {},
     "output_type": "execute_result"
    }
   ],
   "source": [
    "@route(\"/\")\n",
    "def welcome(request):\n",
    "    return \"<html>Hello world</html>\"\n",
    "webbrowser.open(\"http://localhost:8000\")"
   ]
  },
  {
   "cell_type": "markdown",
   "metadata": {},
   "source": [
    "## No Reloading -- No Race Conditions"
   ]
  },
  {
   "cell_type": "code",
   "execution_count": 6,
   "metadata": {},
   "outputs": [
    {
     "data": {
      "text/plain": [
       "True"
      ]
     },
     "execution_count": 6,
     "metadata": {},
     "output_type": "execute_result"
    }
   ],
   "source": [
    "@route('/about')\n",
    "def about(request):\n",
    "    return 'This is the about page'\n",
    "@route(\"/\")\n",
    "def welcome(request):\n",
    "    return '<html>Hello world. See <a href=\"/about\">About</a></html>'\n",
    "webbrowser.open(\"http://localhost:8000\")"
   ]
  },
  {
   "cell_type": "markdown",
   "metadata": {},
   "source": [
    "## Modifying Routes\n",
    "\n",
    "Added a link to an existing route -- and it changed!"
   ]
  },
  {
   "cell_type": "code",
   "execution_count": 7,
   "metadata": {},
   "outputs": [
    {
     "data": {
      "text/plain": [
       "True"
      ]
     },
     "execution_count": 7,
     "metadata": {},
     "output_type": "execute_result"
    }
   ],
   "source": [
    "@route('/double/<int:number>')\n",
    "def double(request, number):\n",
    "    result = number + number\n",
    "    return f'<html>{result}</html>'\n",
    "webbrowser.open(\"http://localhost:8000/double/12\")"
   ]
  },
  {
   "cell_type": "code",
   "execution_count": 10,
   "metadata": {},
   "outputs": [],
   "source": [
    "delayed_multiplication = functools.partial(task.deferLater, reactor, 5, operator.mul)"
   ]
  },
  {
   "cell_type": "code",
   "execution_count": 11,
   "metadata": {},
   "outputs": [
    {
     "data": {
      "text/plain": [
       "True"
      ]
     },
     "execution_count": 11,
     "metadata": {},
     "output_type": "execute_result"
    }
   ],
   "source": [
    "@route('/hyp_squared/<float:a>/<float:b>')\n",
    "@defer.inlineCallbacks\n",
    "def hyp_squared(request, a, b):\n",
    "    a_squared = yield delayed_multiplication(a, a)\n",
    "    b_squared = yield delayed_multiplication(b, b)\n",
    "    result = a_squared + b_squared\n",
    "    return f'<html>{result}</html>'\n",
    "webbrowser.open(\"http://localhost:8000/hyp_squared/3.0/4.0\")"
   ]
  },
  {
   "cell_type": "code",
   "execution_count": 45,
   "metadata": {},
   "outputs": [
    {
     "data": {
      "text/plain": [
       "True"
      ]
     },
     "execution_count": 45,
     "metadata": {},
     "output_type": "execute_result"
    }
   ],
   "source": [
    "@route('/hyp_squared/<float:a>/<float:b>')\n",
    "@defer.inlineCallbacks\n",
    "def hyp_squared(request, a, b):\n",
    "    d_a_squared = delayed_multiplication(a, a)\n",
    "    d_b_squared = delayed_multiplication(b, b)\n",
    "    a_squared, b_squared = yield defer.gatherResults([d_a_squared, d_b_squared])\n",
    "    result = a_squared + b_squared\n",
    "    return f'<html>{result}</html>'\n",
    "webbrowser.open(\"http://localhost:8000/hyp_squared/3.0/4.0\")"
   ]
  },
  {
   "cell_type": "code",
   "execution_count": 12,
   "metadata": {},
   "outputs": [],
   "source": [
    "delayed_negation = functools.partial(task.deferLater, reactor, 2, operator.neg)"
   ]
  },
  {
   "cell_type": "code",
   "execution_count": 13,
   "metadata": {},
   "outputs": [
    {
     "data": {
      "text/plain": [
       "True"
      ]
     },
     "execution_count": 13,
     "metadata": {},
     "output_type": "execute_result"
    }
   ],
   "source": [
    "@route('/distance_squared/<float:x1>/<float:y1>/<float:x2>/<float:y2>')\n",
    "@defer.inlineCallbacks\n",
    "def distance_squared(request, x1, y1, x2, y2):\n",
    "    x, y = map(delayed_negation, (x2, y2))\n",
    "    x.addCallback(operator.add, x1)\n",
    "    x.addCallback(lambda t: delayed_multiplication(t, t))\n",
    "    y.addCallback(operator.add, y1)\n",
    "    y.addCallback(lambda t: delayed_multiplication(t, t))\n",
    "    squares = yield defer.gatherResults([x, y])\n",
    "    result = sum(squares)\n",
    "    return f'<html>{result}</html>'\n",
    "webbrowser.open(\"http://localhost:8000/distance_squared/2.0/1.0/5.0/5.0\")"
   ]
  },
  {
   "cell_type": "code",
   "execution_count": 14,
   "metadata": {},
   "outputs": [
    {
     "data": {
      "text/plain": [
       "True"
      ]
     },
     "execution_count": 14,
     "metadata": {},
     "output_type": "execute_result"
    }
   ],
   "source": [
    "@route('/slow_distance_squared/<float:x1>/<float:y1>/<float:x2>/<float:y2>')\n",
    "@defer.inlineCallbacks\n",
    "def slow_distance_squared(request, x1, y1, x2, y2):\n",
    "    x = x1 - (yield delayed_negation(x2))\n",
    "    y = y1 - (yield delayed_negation(y2))\n",
    "    x_sq = yield delayed_multiplication(x, x)\n",
    "    y_sq = yield delayed_multiplication(y, y)\n",
    "    result = x_sq + y_sq\n",
    "    return f'<html>{result}</html>'\n",
    "webbrowser.open(\"http://localhost:8000/slow_distance_squared/2.0/1.0/5.0/5.0\")"
   ]
  },
  {
   "cell_type": "code",
   "execution_count": null,
   "metadata": {},
   "outputs": [],
   "source": []
  }
 ],
 "metadata": {
  "kernelspec": {
   "display_name": "Python 3",
   "language": "python",
   "name": "python3"
  },
  "language_info": {
   "codemirror_mode": {
    "name": "ipython",
    "version": 3
   },
   "file_extension": ".py",
   "mimetype": "text/x-python",
   "name": "python",
   "nbconvert_exporter": "python",
   "pygments_lexer": "ipython3",
   "version": "3.7.5"
  }
 },
 "nbformat": 4,
 "nbformat_minor": 4
}
